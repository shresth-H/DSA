{
 "cells": [
  {
   "cell_type": "markdown",
   "id": "d2f6328e",
   "metadata": {},
   "source": [
    "### Adjacency List - Parsing"
   ]
  },
  {
   "cell_type": "code",
   "execution_count": 1,
   "id": "6b3c0f72",
   "metadata": {},
   "outputs": [
    {
     "data": {
      "text/plain": [
       "{'A': ['B', 'E'], 'B': ['A', 'C'], 'C': ['B', 'D'], 'D': ['C', 'E']}"
      ]
     },
     "execution_count": 1,
     "metadata": {},
     "output_type": "execute_result"
    }
   ],
   "source": [
    "adj_lst = {\n",
    "'A':['B', 'E'],\n",
    "'B':['A', 'C'],\n",
    "'C':['B', 'D'],\n",
    "'D':['C', 'E'],\n",
    "}\n",
    "\n",
    "adj_lst"
   ]
  },
  {
   "cell_type": "code",
   "execution_count": 2,
   "id": "dab8370e",
   "metadata": {},
   "outputs": [
    {
     "data": {
      "text/plain": [
       "dict_keys(['A', 'B', 'C', 'D'])"
      ]
     },
     "execution_count": 2,
     "metadata": {},
     "output_type": "execute_result"
    }
   ],
   "source": [
    "# Vertex\n",
    "adj_lst.keys()"
   ]
  },
  {
   "cell_type": "code",
   "execution_count": 3,
   "id": "ded38960",
   "metadata": {},
   "outputs": [
    {
     "data": {
      "text/plain": [
       "dict_values([['B', 'E'], ['A', 'C'], ['B', 'D'], ['C', 'E']])"
      ]
     },
     "execution_count": 3,
     "metadata": {},
     "output_type": "execute_result"
    }
   ],
   "source": [
    "# List of vertices forming the edge to a single vertex\n",
    "adj_lst.values()"
   ]
  },
  {
   "cell_type": "code",
   "execution_count": 4,
   "id": "57e22d45",
   "metadata": {},
   "outputs": [
    {
     "data": {
      "text/plain": [
       "['B', 'E']"
      ]
     },
     "execution_count": 4,
     "metadata": {},
     "output_type": "execute_result"
    }
   ],
   "source": [
    "# You can pass the vertex to get the list of connecting vertices as an output\n",
    "adj_lst['A']"
   ]
  },
  {
   "cell_type": "code",
   "execution_count": 5,
   "id": "1f1e5145",
   "metadata": {},
   "outputs": [
    {
     "data": {
      "text/plain": [
       "['B', 'C']"
      ]
     },
     "execution_count": 5,
     "metadata": {},
     "output_type": "execute_result"
    }
   ],
   "source": [
    "# You can append or remove the connected vertices to the returned list of a vertex\n",
    "adj_lst['A'].append('C')\n",
    "adj_lst['A'].remove('E')\n",
    "adj_lst['A']"
   ]
  },
  {
   "cell_type": "markdown",
   "id": "0c6d6e1f",
   "metadata": {},
   "source": [
    "### Add Vertices"
   ]
  },
  {
   "cell_type": "code",
   "execution_count": 2,
   "id": "c7e473e2",
   "metadata": {},
   "outputs": [
    {
     "name": "stdout",
     "output_type": "stream",
     "text": [
      "A  :  []\n",
      "B  :  []\n"
     ]
    }
   ],
   "source": [
    "class Graph:\n",
    "    def __init__(self):\n",
    "        self.adj_list = {}\n",
    "    \n",
    "    def add_vertex(self,vertex):\n",
    "        if vertex not in self.adj_list.keys():\n",
    "            self.adj_list[vertex] = []\n",
    "    \n",
    "    def print_graph(self):\n",
    "        for v in self.adj_list.keys():\n",
    "            print(v, \" : \", self.adj_list[v])\n",
    "    \n",
    "graph = Graph()\n",
    "graph.add_vertex('A')\n",
    "graph.add_vertex('B')\n",
    "graph.print_graph()"
   ]
  },
  {
   "cell_type": "markdown",
   "id": "1f9c9b42",
   "metadata": {},
   "source": [
    "### Add Edges"
   ]
  },
  {
   "cell_type": "code",
   "execution_count": 21,
   "id": "20b42017",
   "metadata": {},
   "outputs": [
    {
     "name": "stdout",
     "output_type": "stream",
     "text": [
      "A  :  ['B']\n",
      "B  :  ['A']\n"
     ]
    }
   ],
   "source": [
    "class Graph:\n",
    "    def __init__(self):\n",
    "        self.adj_list = {}\n",
    "    \n",
    "    def add_vertex(self,vertex):\n",
    "        if vertex not in self.adj_list.keys():\n",
    "            self.adj_list[vertex] = []\n",
    "    \n",
    "    def add_edge(self,vertex1,vertex2):\n",
    "        if vertex1 in self.adj_list.keys() and vertex2 in self.adj_list.keys():\n",
    "            if vertex2 not in self.adj_list[vertex1]:\n",
    "                self.adj_list[vertex1].append(vertex2)\n",
    "                self.adj_list[vertex2].append(vertex1)\n",
    "            \n",
    "    def print_graph(self):\n",
    "        for v in self.adj_list.keys():\n",
    "            print(v, \" : \", self.adj_list[v])\n",
    "    \n",
    "graph = Graph()\n",
    "graph.add_vertex('A')\n",
    "graph.add_vertex('B')\n",
    "#graph.add_vertex('C')\n",
    "\n",
    "\n",
    "graph.add_edge('A','B')\n",
    "graph.add_edge('A','C')\n",
    "\n",
    "graph.print_graph()"
   ]
  },
  {
   "cell_type": "code",
   "execution_count": 15,
   "id": "534bf9bb",
   "metadata": {},
   "outputs": [
    {
     "data": {
      "text/plain": [
       "[1, 12, 5, 8]"
      ]
     },
     "execution_count": 15,
     "metadata": {},
     "output_type": "execute_result"
    }
   ],
   "source": [
    "lst = [1,12,3,5]\n",
    "lst.append(8)\n",
    "lst.remove(3)\n",
    "lst"
   ]
  },
  {
   "cell_type": "markdown",
   "id": "49c2d68a",
   "metadata": {},
   "source": [
    "### Remove Edges"
   ]
  },
  {
   "cell_type": "code",
   "execution_count": 20,
   "id": "7a814240",
   "metadata": {},
   "outputs": [
    {
     "name": "stdout",
     "output_type": "stream",
     "text": [
      "A  :  ['B']\n",
      "B  :  ['A', 'C']\n",
      "C  :  ['B']\n"
     ]
    }
   ],
   "source": [
    "class Graph:\n",
    "    def __init__(self):\n",
    "        self.adj_list = {}\n",
    "    \n",
    "    def add_vertex(self,vertex):\n",
    "        if vertex not in self.adj_list.keys():\n",
    "            self.adj_list[vertex] = []\n",
    "            return True\n",
    "        return False\n",
    "    \n",
    "    def add_edge(self,vertex1,vertex2):\n",
    "        if vertex1 in self.adj_list.keys() and vertex2 in self.adj_list.keys():\n",
    "            if vertex2 not in self.adj_list[vertex1]:\n",
    "                self.adj_list[vertex1].append(vertex2)\n",
    "                self.adj_list[vertex2].append(vertex1)\n",
    "                return True\n",
    "            return False\n",
    "        return False\n",
    "    \n",
    "    def remove_edge(self,vertex1,vertex2):\n",
    "        if vertex1 in self.adj_list.keys() and vertex2 in self.adj_list.keys() and vertex2 in self.adj_list[vertex1]:\n",
    "            self.adj_list[vertex1].remove(vertex2)\n",
    "            self.adj_list[vertex2].remove(vertex1)\n",
    "            return True\n",
    "        return False\n",
    "    \n",
    "    def print_graph(self):\n",
    "        for v in self.adj_list.keys():\n",
    "            print(v, \" : \", self.adj_list[v])\n",
    "    \n",
    "graph = Graph()\n",
    "\n",
    "graph.add_vertex('A')\n",
    "graph.add_vertex('B')\n",
    "graph.add_vertex('C')\n",
    "\n",
    "\n",
    "graph.add_edge('A','B')\n",
    "graph.add_edge('A','C')\n",
    "graph.add_edge('B','C')\n",
    "\n",
    "\n",
    "graph.remove_edge('A','C')\n",
    "#graph.remove_edge('C','A')\n",
    "\n",
    "graph.print_graph()"
   ]
  },
  {
   "cell_type": "markdown",
   "id": "00a506e9",
   "metadata": {},
   "source": [
    "### Remove Vertex"
   ]
  },
  {
   "cell_type": "code",
   "execution_count": 32,
   "id": "b678ef30",
   "metadata": {},
   "outputs": [
    {
     "name": "stdout",
     "output_type": "stream",
     "text": [
      "A  :  ['B']\n",
      "B  :  ['C']\n",
      "C  :  []\n",
      "A  :  ['B']\n",
      "B  :  []\n"
     ]
    }
   ],
   "source": [
    "class Graph:\n",
    "    def __init__(self):\n",
    "        self.adj_list = {}\n",
    "    \n",
    "    def add_vertex(self,vertex):\n",
    "        if vertex not in self.adj_list.keys():\n",
    "            self.adj_list[vertex] = []\n",
    "            return True\n",
    "        return False\n",
    "    \n",
    "    def remove_vertex(self,vertex):\n",
    "        if vertex in self.adj_list.keys():\n",
    "            del self.adj_list[vertex]\n",
    "        for key in self.adj_list.keys():\n",
    "            if vertex in self.adj_list[key]:\n",
    "                self.adj_list[key].remove(vertex)\n",
    "    \n",
    "    def add_edge(self,vertex1,vertex2):\n",
    "        if vertex1 in self.adj_list.keys() and vertex2 in self.adj_list.keys():\n",
    "            if vertex2 not in self.adj_list[vertex1]:\n",
    "                self.adj_list[vertex1].append(vertex2)\n",
    "                return True\n",
    "            return False\n",
    "    \n",
    "    def remove_edge(self,vertex1,vertex2):\n",
    "        if vertex1 in self.adj_list.keys() and vertex2 in self.adj_list.keys() and vertex2 in self.adj_list[vertex1]:\n",
    "            self.adj_list[vertex1].remove(vertex2)\n",
    "            return True\n",
    "        return False\n",
    "    \n",
    "    def print_graph(self):\n",
    "        for v in self.adj_list.keys():\n",
    "            print(v, \" : \", self.adj_list[v])\n",
    "    \n",
    "graph = Graph()\n",
    "\n",
    "graph.add_vertex('A')\n",
    "graph.add_vertex('B')\n",
    "#graph.add_vertex('C')\n",
    "\n",
    "\n",
    "graph.add_edge('A','B')\n",
    "graph.add_edge('A','C')\n",
    "graph.add_edge('B','C')\n",
    "\n",
    "\n",
    "graph.remove_edge('A','C')\n",
    "graph.remove_edge('C','A')\n",
    "\n",
    "graph.print_graph()\n",
    "\n",
    "graph.remove_vertex('C')\n",
    "\n",
    "graph.print_graph()"
   ]
  },
  {
   "cell_type": "code",
   "execution_count": null,
   "id": "f989f6c1",
   "metadata": {},
   "outputs": [],
   "source": []
  }
 ],
 "metadata": {
  "kernelspec": {
   "display_name": "Python 3 (ipykernel)",
   "language": "python",
   "name": "python3"
  },
  "language_info": {
   "codemirror_mode": {
    "name": "ipython",
    "version": 3
   },
   "file_extension": ".py",
   "mimetype": "text/x-python",
   "name": "python",
   "nbconvert_exporter": "python",
   "pygments_lexer": "ipython3",
   "version": "3.11.3"
  }
 },
 "nbformat": 4,
 "nbformat_minor": 5
}
