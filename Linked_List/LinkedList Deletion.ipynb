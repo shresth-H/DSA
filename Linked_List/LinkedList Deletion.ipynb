{
 "cells": [
  {
   "cell_type": "code",
   "execution_count": 1,
   "id": "1dd18471",
   "metadata": {},
   "outputs": [],
   "source": [
    "class Node:\n",
    "    def __init__(self,value):\n",
    "        self.value = value\n",
    "        self.next = None\n",
    "\n",
    "class LinkedList:\n",
    "    # constructor\n",
    "    def __init__(self,value):\n",
    "        new_node = Node(value)\n",
    "        self.head = new_node\n",
    "        self.tail = new_node\n",
    "\n",
    "    # deletion from last\n",
    "    def pop(self):\n",
    "        temp = self.head\n",
    "        \n",
    "        while temp.next is not None:\n",
    "            pre = temp\n",
    "            temp = temp.next\n",
    "        \n",
    "        pre.next = None\n",
    "        self.tail = pre\n",
    "    \n",
    "    # insert at last  \n",
    "    def append(self,value):\n",
    "        new_node = Node(value)\n",
    "        \n",
    "        if self.head is None:\n",
    "            self.head = new_node\n",
    "            self.tail = new_node\n",
    "            \n",
    "        else:\n",
    "            self.tail.next = new_node\n",
    "            self.tail = new_node\n",
    "        \n",
    "        return True\n",
    "    \n",
    "    # insert at first\n",
    "    def prepend(self,value):\n",
    "        new_node = Node(value)\n",
    "        \n",
    "        if self.head is None:\n",
    "            self.head = new_node\n",
    "            self.tail = new_node\n",
    "        \n",
    "        else:\n",
    "            new_node.next = self.head\n",
    "            self.head = new_node\n",
    "            \n",
    "        return True\n",
    "    \n",
    "    # insert at location\n",
    "    def insert_at_loc(self,index,value):\n",
    "        \n",
    "        new_node = Node(value)\n",
    "        \n",
    "        if self.head is None:\n",
    "            self.head = new_node\n",
    "            self.tail = new_node\n",
    "            \n",
    "        else:\n",
    "            temp = self.head\n",
    "            i=0\n",
    "            while(i<index-1):\n",
    "                temp = temp.next\n",
    "                i+=1\n",
    "            \n",
    "            new_node.next=temp.next\n",
    "            temp.next = new_node\n",
    "            \n",
    "            return True\n",
    "                \n",
    "    \n",
    "    def print_list(self):\n",
    "        temp = self.head\n",
    "        \n",
    "        while temp is not None:\n",
    "            print(temp.value, end = \" -> \")\n",
    "            temp = temp.next\n",
    "            \n",
    "        \n",
    "ll = LinkedList(0)\n"
   ]
  },
  {
   "cell_type": "code",
   "execution_count": 2,
   "id": "5eaa63e9",
   "metadata": {},
   "outputs": [
    {
     "name": "stdout",
     "output_type": "stream",
     "text": [
      "5 -> 3 -> 1 -> 0 -> 2 -> 4 -> 6 -> 8 -> "
     ]
    }
   ],
   "source": [
    "ll.append(2)\n",
    "ll.append(4)\n",
    "ll.append(6)\n",
    "ll.append(8)\n",
    "ll.prepend(1)\n",
    "ll.prepend(3)\n",
    "ll.prepend(5)\n",
    "ll.print_list()\n"
   ]
  },
  {
   "cell_type": "code",
   "execution_count": 3,
   "id": "f5daa140",
   "metadata": {},
   "outputs": [],
   "source": [
    "ll.pop()"
   ]
  },
  {
   "cell_type": "code",
   "execution_count": 4,
   "id": "a1cfbfb1",
   "metadata": {},
   "outputs": [
    {
     "name": "stdout",
     "output_type": "stream",
     "text": [
      "5 -> 3 -> 1 -> 0 -> 2 -> 4 -> 6 -> "
     ]
    }
   ],
   "source": [
    "ll.print_list()"
   ]
  }
 ],
 "metadata": {
  "kernelspec": {
   "display_name": "Python 3 (ipykernel)",
   "language": "python",
   "name": "python3"
  },
  "language_info": {
   "codemirror_mode": {
    "name": "ipython",
    "version": 3
   },
   "file_extension": ".py",
   "mimetype": "text/x-python",
   "name": "python",
   "nbconvert_exporter": "python",
   "pygments_lexer": "ipython3",
   "version": "3.11.3"
  }
 },
 "nbformat": 4,
 "nbformat_minor": 5
}
