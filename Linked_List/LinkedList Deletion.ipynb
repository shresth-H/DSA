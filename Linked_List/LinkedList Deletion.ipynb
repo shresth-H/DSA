{
 "cells": [
  {
   "cell_type": "code",
   "execution_count": 1,
   "id": "1e2a039f",
   "metadata": {},
   "outputs": [],
   "source": [
    "class Node:\n",
    "    def __init__(self,value):\n",
    "        self.value = value\n",
    "        self.next = None\n",
    "\n",
    "class LinkedList:\n",
    "    # constructor\n",
    "    def __init__(self,value):\n",
    "        new_node = Node(value)\n",
    "        self.head = new_node\n",
    "        self.tail = new_node\n",
    "\n",
    "    # delete from end\n",
    "    def pop_last(self):\n",
    "        temp = self.head\n",
    "        \n",
    "        while temp.next is not None:\n",
    "            pre = temp\n",
    "            temp = temp.next\n",
    "        \n",
    "        pre.next = None\n",
    "        self.tail = pre\n",
    "        \n",
    "    # delete from start\n",
    "    def pop_first(self):\n",
    "        temp = self.head\n",
    "        self.head = temp.next\n",
    "        temp.next = None\n",
    "        \n",
    "    # delete at location\n",
    "    def delete_at_loc(self,index):\n",
    "        temp = self.head\n",
    "        i = 0\n",
    "        while (i<index):\n",
    "            pre = temp\n",
    "            temp = temp.next\n",
    "            i+=1\n",
    "            \n",
    "        pre.next = temp.next\n",
    "        temp.next = None\n",
    "        \n",
    "    # insert at last  \n",
    "    def append(self,value):\n",
    "        new_node = Node(value)\n",
    "        \n",
    "        if self.head is None:\n",
    "            self.head = new_node\n",
    "            self.tail = new_node\n",
    "            \n",
    "        else:\n",
    "            self.tail.next = new_node\n",
    "            self.tail = new_node\n",
    "        \n",
    "        return True\n",
    "    \n",
    "    # insert at first\n",
    "    def prepend(self,value):\n",
    "        new_node = Node(value)\n",
    "        \n",
    "        if self.head is None:\n",
    "            self.head = new_node\n",
    "            self.tail = new_node\n",
    "        \n",
    "        else:\n",
    "            new_node.next = self.head\n",
    "            self.head = new_node\n",
    "            \n",
    "        return True\n",
    "    \n",
    "    # insert at location\n",
    "    def insert_at_loc(self,index,value):\n",
    "        \n",
    "        new_node = Node(value)\n",
    "        \n",
    "        if self.head is None:\n",
    "            self.head = new_node\n",
    "            self.tail = new_node\n",
    "            \n",
    "        else:\n",
    "            temp = self.head\n",
    "            i=0\n",
    "            while(i<index-1):\n",
    "                temp = temp.next\n",
    "                i+=1\n",
    "            \n",
    "            new_node.next=temp.next\n",
    "            temp.next = new_node\n",
    "            \n",
    "            return True\n",
    "                \n",
    "    \n",
    "    def print_list(self):\n",
    "        temp = self.head\n",
    "        \n",
    "        while temp is not None:\n",
    "            print(temp.value, end = \" -> \")\n",
    "            temp = temp.next\n",
    "            \n",
    "        \n",
    "ll = LinkedList(0)\n"
   ]
  },
  {
   "cell_type": "code",
   "execution_count": 2,
   "id": "94a504a8",
   "metadata": {},
   "outputs": [
    {
     "name": "stdout",
     "output_type": "stream",
     "text": [
      "5 -> 3 -> 1 -> 0 -> 2 -> 4 -> 6 -> 8 -> "
     ]
    }
   ],
   "source": [
    "ll.append(2)\n",
    "ll.append(4)\n",
    "ll.append(6)\n",
    "ll.append(8)\n",
    "ll.prepend(1)\n",
    "ll.prepend(3)\n",
    "ll.prepend(5)\n",
    "ll.print_list()\n"
   ]
  },
  {
   "cell_type": "code",
   "execution_count": 3,
   "id": "1df6a2c6",
   "metadata": {},
   "outputs": [],
   "source": [
    "ll.pop_last()"
   ]
  },
  {
   "cell_type": "code",
   "execution_count": 4,
   "id": "739e8a2b",
   "metadata": {},
   "outputs": [
    {
     "name": "stdout",
     "output_type": "stream",
     "text": [
      "5 -> 3 -> 1 -> 0 -> 2 -> 4 -> 6 -> "
     ]
    }
   ],
   "source": [
    "ll.print_list()"
   ]
  },
  {
   "cell_type": "code",
   "execution_count": 5,
   "id": "ba686d8c",
   "metadata": {},
   "outputs": [],
   "source": [
    "ll.pop_first()"
   ]
  },
  {
   "cell_type": "code",
   "execution_count": 6,
   "id": "e1ad54a5",
   "metadata": {},
   "outputs": [
    {
     "name": "stdout",
     "output_type": "stream",
     "text": [
      "3 -> 1 -> 0 -> 2 -> 4 -> 6 -> "
     ]
    }
   ],
   "source": [
    "ll.print_list()"
   ]
  },
  {
   "cell_type": "code",
   "execution_count": 7,
   "id": "c0b46643",
   "metadata": {},
   "outputs": [],
   "source": [
    "ll.delete_at_loc(4)"
   ]
  },
  {
   "cell_type": "code",
   "execution_count": 8,
   "id": "d8c1fba2",
   "metadata": {},
   "outputs": [
    {
     "name": "stdout",
     "output_type": "stream",
     "text": [
      "3 -> 1 -> 0 -> 2 -> 6 -> "
     ]
    }
   ],
   "source": [
    "ll.print_list()"
   ]
  }
 ],
 "metadata": {
  "kernelspec": {
   "display_name": "Python 3 (ipykernel)",
   "language": "python",
   "name": "python3"
  },
  "language_info": {
   "codemirror_mode": {
    "name": "ipython",
    "version": 3
   },
   "file_extension": ".py",
   "mimetype": "text/x-python",
   "name": "python",
   "nbconvert_exporter": "python",
   "pygments_lexer": "ipython3",
   "version": "3.11.3"
  }
 },
 "nbformat": 4,
 "nbformat_minor": 5
}
