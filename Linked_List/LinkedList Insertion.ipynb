{
 "cells": [
  {
   "cell_type": "code",
   "execution_count": 2,
   "id": "f446a3f2",
   "metadata": {},
   "outputs": [],
   "source": [
    "class Node:\n",
    "    def __init__(self,value):\n",
    "        self.value = value\n",
    "        self.next = None\n",
    "\n",
    "class LinkedList:\n",
    "    # constructor\n",
    "    def __init__(self,value):\n",
    "        new_node = Node(value)\n",
    "        self.head = new_node\n",
    "        self.tail = new_node\n",
    "        \n",
    "    # insert at last  \n",
    "    def append(self,value):\n",
    "        new_node = Node(value)\n",
    "        \n",
    "        if self.head is None:\n",
    "            self.head = new_node\n",
    "            self.tail = new_node\n",
    "            \n",
    "        else:\n",
    "            self.tail.next = new_node\n",
    "            self.tail = new_node\n",
    "        \n",
    "        return True\n",
    "    \n",
    "    # insert at first\n",
    "    def prepend(self,value):\n",
    "        new_node = Node(value)\n",
    "        \n",
    "        if self.head is None:\n",
    "            self.head = new_node\n",
    "            self.tail = new_node\n",
    "        \n",
    "        else:\n",
    "            new_node.next = self.head\n",
    "            self.head = new_node\n",
    "            \n",
    "        return True\n",
    "    \n",
    "    # insert at location\n",
    "    def insert_at_loc(self,index,value):\n",
    "        \n",
    "        new_node = Node(value)\n",
    "        \n",
    "        if self.head is None:\n",
    "            self.head = new_node\n",
    "            self.tail = new_node\n",
    "            \n",
    "        else:\n",
    "            temp = self.head\n",
    "            i=0\n",
    "            while(i<index-1):\n",
    "                temp = temp.next\n",
    "                i+=1\n",
    "            \n",
    "            new_node.next=temp.next\n",
    "            temp.next = new_node\n",
    "            \n",
    "            return True\n",
    "                \n",
    "    \n",
    "    def print_list(self):\n",
    "        temp = self.head\n",
    "        \n",
    "        while temp is not None:\n",
    "            print(temp.value, end = \" -> \")\n",
    "            temp = temp.next\n",
    "            \n",
    "        \n",
    "ll = LinkedList(0)\n"
   ]
  },
  {
   "cell_type": "code",
   "execution_count": 3,
   "id": "6325e81c",
   "metadata": {},
   "outputs": [
    {
     "name": "stdout",
     "output_type": "stream",
     "text": [
      "0 -> 2 -> 4 -> 6 -> 8 -> "
     ]
    }
   ],
   "source": [
    "ll.append(2)\n",
    "ll.append(4)\n",
    "ll.append(6)\n",
    "ll.append(8)\n",
    "ll.print_list()"
   ]
  },
  {
   "cell_type": "code",
   "execution_count": 4,
   "id": "4e6068e4",
   "metadata": {},
   "outputs": [
    {
     "name": "stdout",
     "output_type": "stream",
     "text": [
      "7 -> 5 -> 3 -> 1 -> 0 -> 2 -> 4 -> 6 -> 8 -> "
     ]
    }
   ],
   "source": [
    "ll.prepend(1)\n",
    "ll.prepend(3)\n",
    "ll.prepend(5)\n",
    "ll.prepend(7)\n",
    "ll.print_list()"
   ]
  },
  {
   "cell_type": "code",
   "execution_count": 5,
   "id": "58bbf76f",
   "metadata": {},
   "outputs": [
    {
     "name": "stdout",
     "output_type": "stream",
     "text": [
      "7 -> 5 -> 3 -> 10 -> 1 -> 0 -> 2 -> 20 -> 4 -> 6 -> 8 -> "
     ]
    }
   ],
   "source": [
    "ll.insert_at_loc(3,10)\n",
    "ll.insert_at_loc(7,20)\n",
    "ll.print_list()"
   ]
  },
  {
   "cell_type": "code",
   "execution_count": null,
   "id": "e373a8cf",
   "metadata": {},
   "outputs": [],
   "source": []
  }
 ],
 "metadata": {
  "kernelspec": {
   "display_name": "Python 3 (ipykernel)",
   "language": "python",
   "name": "python3"
  },
  "language_info": {
   "codemirror_mode": {
    "name": "ipython",
    "version": 3
   },
   "file_extension": ".py",
   "mimetype": "text/x-python",
   "name": "python",
   "nbconvert_exporter": "python",
   "pygments_lexer": "ipython3",
   "version": "3.11.3"
  }
 },
 "nbformat": 4,
 "nbformat_minor": 5
}
